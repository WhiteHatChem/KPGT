{
 "cells": [
  {
   "cell_type": "code",
   "execution_count": null,
   "metadata": {},
   "outputs": [
    {
     "ename": "",
     "evalue": "",
     "output_type": "error",
     "traceback": [
      "\u001b[1;31mRunning cells with 'KPGT' requires the ipykernel package.\n",
      "\u001b[1;31mRun the following command to install 'ipykernel' into the Python environment. \n",
      "\u001b[1;31mCommand: 'conda install -n KPGT ipykernel --update-deps --force-reinstall'"
     ]
    }
   ],
   "source": [
    "python3 'preprocess_downstream_dataset.py' --dataset full_db --data_path ../"
   ]
  },
  {
   "cell_type": "code",
   "execution_count": null,
   "metadata": {},
   "outputs": [],
   "source": [
    "python prediction.py --config base --model_path /home/zach/Downloads/downstream/lipo/scaffold-0.pth --dataset full_db --data_path ../ --dataset_type lipo\n",
    "\n",
    "python evaluation.py --config base --model_path /home/zach/Downloads/downstream/toxcast/scaffold-0.pth --dataset toxcast --data_path  /home/zach/Downloads/datasets --dataset_type classification --metric rocauc --split scaffold-0\n",
    "\n",
    "python preprocess_downstream_dataset.py --data_path /home/zach/Downloads/datasets/ --dataset freesolv   "
   ]
  },
  {
   "cell_type": "code",
   "execution_count": 21,
   "metadata": {},
   "outputs": [
    {
     "name": "stdout",
     "output_type": "stream",
     "text": [
      "bbbp\n",
      "model have 90.143705M paramerters in total\n",
      "Train\n",
      "best threshold:  -14.942019685968623\n",
      "best f1 threshold:  -2.2428309294554563 f1 score 1.0\n",
      "Val\n",
      "best threshold:  -12.807162917770064\n",
      "best f1 threshold:  -3.2894646622635815 f1 score 0.9457831325301205\n",
      "Test\n",
      "best threshold:  -11.733497290281921\n",
      "best f1 threshold:  0.4043768099001088 f1 score 0.9400630914826499\n",
      "train: 1.000, val: 0.953, test: 0.914\n"
     ]
    }
   ],
   "source": [
    "!cd scripts && python evaluation.py --config base --data_path \\\n",
    "    /mnt/7afff491-071a-47ff-a205-052329278865/datasets/ \\\n",
    "    --dataset_type classification --metric rocauc --split scaffold-0\\\n",
    "    --dataset bbbp --model_path /home/zach/whc_backend/downstream/bbbp/scaffold-0.pth\n"
   ]
  },
  {
   "cell_type": "code",
   "execution_count": 30,
   "metadata": {},
   "outputs": [
    {
     "name": "stdout",
     "output_type": "stream",
     "text": [
      "{'Train':[-2.2428309294554563,]\n",
      ",'Val':[-3.2894646622635815,]\n",
      ",'Test':[0.4043768099001088,]\n",
      "}\n"
     ]
    }
   ],
   "source": [
    "!cd scripts && python evaluation.py --config base --data_path \\\n",
    "    /mnt/7afff491-071a-47ff-a205-052329278865/datasets/ \\\n",
    "    --dataset_type classification --metric rocauc --split scaffold-0\\\n",
    "    --dataset bbbp --model_path /home/zach/whc_backend/downstream/bbbp/scaffold-0.pth\n"
   ]
  },
  {
   "cell_type": "code",
   "execution_count": 31,
   "metadata": {},
   "outputs": [
    {
     "name": "stdout",
     "output_type": "stream",
     "text": [
      "{'Train':[0.5321943179981119,-0.49420831964777356,]\n",
      ",'Val':[-1.2729673376073825,-0.781164384103036,]\n",
      ",'Test':[-0.5037052767412789,-0.9074048852777334,]\n",
      "}\n"
     ]
    }
   ],
   "source": [
    "!cd scripts && python evaluation.py --config base --data_path \\\n",
    "    /mnt/7afff491-071a-47ff-a205-052329278865/datasets/ \\\n",
    "    --dataset_type classification --metric rocauc --split scaffold-0 \\\n",
    "    --dataset clintox --model_path /home/zach/whc_backend/downstream/clintox/scaffold-0.pth\n"
   ]
  },
  {
   "cell_type": "code",
   "execution_count": 38,
   "metadata": {},
   "outputs": [
    {
     "name": "stdout",
     "output_type": "stream",
     "text": [
      "512\n",
      "512\n",
      "512\n",
      "512\n",
      "512\n"
     ]
    }
   ],
   "source": [
    "import os\n",
    "\n",
    "datasets = [\"bace\", \"bbbp\", \"clintox\", \"metstab\", \"sider\"]\n",
    "\n",
    "for dataset in datasets:\n",
    "    command = f\"\"\"\n",
    "    cd scripts && python evaluation.py --config base --data_path \\\n",
    "    /mnt/7afff491-071a-47ff-a205-052329278865/datasets/ \\\n",
    "    --dataset_type classification --metric rocauc --split scaffold-0 \\\n",
    "    --dataset {dataset} --model_path /home/zach/whc_backend/downstream/{dataset}/scaffold-0.pth {dataset} > {dataset}_threshold.json\n",
    "    \"\"\"\n",
    "    output = os.system(command)\n",
    "    print(output)\n"
   ]
  },
  {
   "cell_type": "code",
   "execution_count": null,
   "metadata": {
    "vscode": {
     "languageId": "bat"
    }
   },
   "outputs": [],
   "source": []
  }
 ],
 "metadata": {
  "kernelspec": {
   "display_name": "KPGT",
   "language": "python",
   "name": "python3"
  },
  "language_info": {
   "codemirror_mode": {
    "name": "ipython",
    "version": 3
   },
   "file_extension": ".py",
   "mimetype": "text/x-python",
   "name": "python",
   "nbconvert_exporter": "python",
   "pygments_lexer": "ipython3",
   "version": "3.7.13"
  },
  "orig_nbformat": 4
 },
 "nbformat": 4,
 "nbformat_minor": 2
}
