{
 "cells": [
  {
   "cell_type": "code",
   "execution_count": null,
   "metadata": {},
   "outputs": [
    {
     "ename": "",
     "evalue": "",
     "output_type": "error",
     "traceback": [
      "\u001b[1;31mRunning cells with 'KPGT' requires the ipykernel package.\n",
      "\u001b[1;31mRun the following command to install 'ipykernel' into the Python environment. \n",
      "\u001b[1;31mCommand: 'conda install -n KPGT ipykernel --update-deps --force-reinstall'"
     ]
    }
   ],
   "source": [
    "python3 'preprocess_downstream_dataset.py' --dataset full_db --data_path ../"
   ]
  },
  {
   "cell_type": "code",
   "execution_count": null,
   "metadata": {},
   "outputs": [],
   "source": [
    "python prediction.py --config base --model_path /home/zach/Downloads/downstream/lipo/scaffold-0.pth --dataset full_db --data_path ../ --dataset_type lipo\n",
    "\n",
    "python evaluation.py --config base --model_path /home/zach/Downloads/downstream/toxcast/scaffold-0.pth --dataset toxcast --data_path  /home/zach/Downloads/datasets --dataset_type classification --metric rocauc --split scaffold-0\n",
    "\n",
    "python preprocess_downstream_dataset.py --data_path /home/zach/Downloads/datasets/ --dataset freesolv   "
   ]
  }
 ],
 "metadata": {
  "kernelspec": {
   "display_name": "KPGT",
   "language": "python",
   "name": "python3"
  },
  "language_info": {
   "name": "python",
   "version": "3.7.13"
  },
  "orig_nbformat": 4
 },
 "nbformat": 4,
 "nbformat_minor": 2
}
